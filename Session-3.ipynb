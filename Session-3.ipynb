{
 "cells": [
  {
   "cell_type": "code",
   "execution_count": 25,
   "id": "3d33e5be-d6e0-4650-bcd8-30fd6e8fc0cf",
   "metadata": {},
   "outputs": [
    {
     "name": "stdout",
     "output_type": "stream",
     "text": [
      "['apple', 'peru', 'chiku', 'mango', 'sitaphal']\n",
      "apple\n",
      "peru\n",
      "chiku\n",
      "apple\n",
      "peru\n",
      "chiku\n",
      "mango\n",
      "sitaphal\n",
      "0\n",
      "1\n",
      "2\n",
      "3\n",
      "4\n",
      "1\n",
      "2\n",
      "3\n",
      "4\n",
      "5\n",
      "1\n",
      "2\n",
      "3\n",
      "4\n",
      "5\n",
      "6\n",
      "7\n",
      "8\n",
      "9\n"
     ]
    }
   ],
   "source": [
    "#for is used for iterating through a list or a range of values\n",
    "fruits=[\"apple\",\"peru\",\"chiku\",\"mango\",\"sitaphal\"]\n",
    "print(fruits)\n",
    "print(fruits[0])\n",
    "print(fruits[1])\n",
    "print(fruits[2])\n",
    "\n",
    "for f in fruits:\n",
    "    print(f)\n",
    "\n",
    "for x in range(5):\n",
    "    print(x)\n",
    "\n",
    "for y in range(1,10):\n",
    "    print(y)\n",
    "    if(y==5):\n",
    "        break  #code stops at this point\n",
    "\n",
    "for y in range(1,10):\n",
    "    print(y)\n",
    "    if(y==5):\n",
    "        continue #code continues to execute"
   ]
  },
  {
   "cell_type": "code",
   "execution_count": 41,
   "id": "9e6968c7-548b-47ef-9d51-cc5531e4504d",
   "metadata": {},
   "outputs": [
    {
     "name": "stdout",
     "output_type": "stream",
     "text": [
      "5\n"
     ]
    }
   ],
   "source": [
    "a=2\n",
    "a=a+1  #addition operator\n",
    "a+=2\n",
    "print(a) "
   ]
  },
  {
   "cell_type": "code",
   "execution_count": 43,
   "id": "71f69ccc-0d44-4f95-b19e-edf8af37bb97",
   "metadata": {},
   "outputs": [
    {
     "name": "stdout",
     "output_type": "stream",
     "text": [
      "0\n",
      "1\n",
      "2\n",
      "3\n",
      "4\n",
      "5\n"
     ]
    }
   ],
   "source": [
    "#while loop will check a condition & continue execution\n",
    "b=0 #initial value\n",
    "while(b<6): #condition check\n",
    "    print(b)\n",
    "    b+=1    #increment"
   ]
  },
  {
   "cell_type": "code",
   "execution_count": 57,
   "id": "a89d021c-6f78-4f61-9699-8c3b7cb6bdfc",
   "metadata": {},
   "outputs": [
    {
     "name": "stdout",
     "output_type": "stream",
     "text": [
      "hello world\n",
      "hello world\n",
      "hello world\n"
     ]
    }
   ],
   "source": [
    "i=6 #initial value\n",
    "# while(i>0):\n",
    "#     print(i)\n",
    "#     i-=1\n",
    "\n",
    "def hello():\n",
    "    print(\"hello world\")\n",
    "    \n",
    "while(i>=0):\n",
    "    hello()\n",
    "    i-=1\n",
    "    if(i==3):\n",
    "        break #used to stop the loop"
   ]
  },
  {
   "cell_type": "code",
   "execution_count": null,
   "id": "d17198ab-32f2-4001-b0c9-0c2a67bc7069",
   "metadata": {},
   "outputs": [],
   "source": []
  }
 ],
 "metadata": {
  "kernelspec": {
   "display_name": "Python 3 (ipykernel)",
   "language": "python",
   "name": "python3"
  },
  "language_info": {
   "codemirror_mode": {
    "name": "ipython",
    "version": 3
   },
   "file_extension": ".py",
   "mimetype": "text/x-python",
   "name": "python",
   "nbconvert_exporter": "python",
   "pygments_lexer": "ipython3",
   "version": "3.12.4"
  }
 },
 "nbformat": 4,
 "nbformat_minor": 5
}
