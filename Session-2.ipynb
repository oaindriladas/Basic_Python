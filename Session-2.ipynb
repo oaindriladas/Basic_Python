{
 "cells": [
  {
   "cell_type": "code",
   "execution_count": 53,
   "id": "b0f3a9f7-3315-4032-8f1d-e5f5885cb528",
   "metadata": {},
   "outputs": [
    {
     "name": "stdout",
     "output_type": "stream",
     "text": [
      "90\n",
      "9.101\n",
      "9\n",
      "10.0\n"
     ]
    }
   ],
   "source": [
    "x=90 #int\n",
    "y=9.101 #float\n",
    "z=int(y)\n",
    "a=float(10)\n",
    "print(x)\n",
    "print(y)\n",
    "print(z)\n",
    "print(a) #casting"
   ]
  },
  {
   "cell_type": "code",
   "execution_count": 31,
   "id": "12ddcbc8-c073-4e98-900b-2804b052dacd",
   "metadata": {},
   "outputs": [
    {
     "name": "stdout",
     "output_type": "stream",
     "text": [
      "name is: anurag\n",
      "n\n",
      "an\n"
     ]
    }
   ],
   "source": [
    "name= \"anurag\" # 0 1 2 3 4\n",
    "print(\"name is: \"+name)\n",
    "print(name[1])\n",
    "print(name[0:2])"
   ]
  },
  {
   "cell_type": "code",
   "execution_count": 33,
   "id": "d2da2515-c12b-4299-8139-c6df6cdeb844",
   "metadata": {},
   "outputs": [
    {
     "name": "stdout",
     "output_type": "stream",
     "text": [
      "anurag\n",
      "ANURAG\n"
     ]
    }
   ],
   "source": [
    "#string data type\n",
    "new_name= str(name)\n",
    "print(new_name)\n",
    "print(new_name.upper())\n"
   ]
  },
  {
   "cell_type": "code",
   "execution_count": 63,
   "id": "e30dcd79-c707-4a09-a61b-dddd26ce900c",
   "metadata": {},
   "outputs": [
    {
     "name": "stdout",
     "output_type": "stream",
     "text": [
      "addition: 105 sub is: 10\n",
      "10.0\n",
      "10\n",
      "True\n"
     ]
    }
   ],
   "source": [
    "a=90\n",
    "y=100 \n",
    "z=5\n",
    "add= str(a+y) # a & y are operands, + is an operator\n",
    "sub= str(y-a)\n",
    "print(\"addition: \"+str(y+z)+\" sub is: \"+sub)\n",
    "# mul\n",
    "div=150/15\n",
    "print(div)\n",
    "mod=y%a\n",
    "print(mod)\n",
    "print(a<y) #boolean"
   ]
  },
  {
   "cell_type": "code",
   "execution_count": 91,
   "id": "88c2e7c0-861b-420d-b911-a460ddc47128",
   "metadata": {},
   "outputs": [
    {
     "name": "stdout",
     "output_type": "stream",
     "text": [
      "20\n",
      "[90, 300, 30, 90, 20]\n",
      "1000\n",
      "(10, 100, 1000, 10, 100)\n",
      "{'brand': 'tata', 'year': '2024', 'color': 'red'}\n",
      "Color of car is: tata\n"
     ]
    }
   ],
   "source": [
    "x=[90,20,30,90,20]\n",
    "print(x[1])\n",
    "x[1]=300   #list can be changed\n",
    "print(x) \n",
    "\n",
    "y=(10,100,1000,10,100)\n",
    "print(y[2])\n",
    "#y[2]=2000  #tuple cannot be changed, does not support assignment\n",
    "print(y)\n",
    "\n",
    "d={\n",
    "    \"brand\":\"tata\", \"year\":\"2024\", \"color\":\"red\"\n",
    "}   #brand is the key, tata is the value\n",
    "print(d)\n",
    "print(\"Color of car is: \"+d[\"brand\"]) #dictionary"
   ]
  },
  {
   "cell_type": "code",
   "execution_count": 113,
   "id": "a86169f3-6f5e-4cfa-abb6-27a3700bda4c",
   "metadata": {},
   "outputs": [
    {
     "name": "stdout",
     "output_type": "stream",
     "text": [
      "big is not larger\n"
     ]
    }
   ],
   "source": [
    "small=10\n",
    "big=90\n",
    "biggest=1000\n",
    "if(big<small):   #condition inside () will evaluate to give you a boolean value\n",
    "    print(\"big is larger than small\")\n",
    "else:\n",
    "    print(\"big is not larger\")"
   ]
  },
  {
   "cell_type": "code",
   "execution_count": 115,
   "id": "1a5eb737-f477-4c58-94b3-9c0893008e2d",
   "metadata": {},
   "outputs": [
    {
     "name": "stdout",
     "output_type": "stream",
     "text": [
      "big is smallest of all\n"
     ]
    }
   ],
   "source": [
    "if(big<small):\n",
    "    print(\"big is greater than small\")\n",
    "elif (big>biggest):\n",
    "    print(\"big is the largest number\")\n",
    "else:\n",
    "    print(\"big is smallest of all\")"
   ]
  },
  {
   "cell_type": "code",
   "execution_count": null,
   "id": "da08ce77-d9c7-4251-b86d-e4fbd451db28",
   "metadata": {},
   "outputs": [],
   "source": []
  }
 ],
 "metadata": {
  "kernelspec": {
   "display_name": "Python 3 (ipykernel)",
   "language": "python",
   "name": "python3"
  },
  "language_info": {
   "codemirror_mode": {
    "name": "ipython",
    "version": 3
   },
   "file_extension": ".py",
   "mimetype": "text/x-python",
   "name": "python",
   "nbconvert_exporter": "python",
   "pygments_lexer": "ipython3",
   "version": "3.12.4"
  }
 },
 "nbformat": 4,
 "nbformat_minor": 5
}
