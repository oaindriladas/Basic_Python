{
 "cells": [
  {
   "cell_type": "code",
   "execution_count": 2,
   "id": "22177e9a",
   "metadata": {},
   "outputs": [
    {
     "name": "stdout",
     "output_type": "stream",
     "text": [
      "Cant set up a call\n"
     ]
    }
   ],
   "source": [
    "q1=True\n",
    "q2=False\n",
    "if(q1==True):\n",
    "    if(q2==True):\n",
    "        print(\"both are true,set up a call\")\n",
    "    else:\n",
    "        print(\"Cant set up a call\")"
   ]
  },
  {
   "cell_type": "code",
   "execution_count": 11,
   "id": "9dda280b",
   "metadata": {},
   "outputs": [
    {
     "name": "stdout",
     "output_type": "stream",
     "text": [
      "36\n",
      "Enter a number for factorial5\n",
      "120\n"
     ]
    }
   ],
   "source": [
    "#factorial normal & recursion\n",
    "x= lambda a:a*a\n",
    "print(x(6))\n",
    "\n",
    "n=int(input(\"Enter a number for factorial\"))\n",
    "fact=1\n",
    "for i in range (1,n+1):\n",
    "    if(i<=n):\n",
    "        fact*= i\n",
    "    else:\n",
    "        fact=1\n",
    "print(fact)"
   ]
  },
  {
   "cell_type": "code",
   "execution_count": 12,
   "id": "074f59b2",
   "metadata": {},
   "outputs": [
    {
     "name": "stdout",
     "output_type": "stream",
     "text": [
      "enter a number5\n",
      "factorial is: \n",
      "120\n"
     ]
    }
   ],
   "source": [
    "#recursive program to calculate factorial\n",
    "num=int(input(\"enter a number\"))\n",
    "def fact(num):\n",
    "    if(num==1 or num==0):\n",
    "        return 1\n",
    "    else:\n",
    "        return num*fact(num-1)\n",
    "    \n",
    "print(\"factorial is: \")\n",
    "print(fact(num))\n",
    "    "
   ]
  },
  {
   "cell_type": "code",
   "execution_count": 8,
   "id": "ac061150",
   "metadata": {},
   "outputs": [
    {
     "name": "stdout",
     "output_type": "stream",
     "text": [
      "brand is: TATA Tigor\n"
     ]
    }
   ],
   "source": [
    "\n",
    "class Car:\n",
    "    def __init__(self, brand, model):\n",
    "        self.brand=brand\n",
    "        self.model=model\n",
    "        \n",
    "    def hello(self):\n",
    "        print(\"brand is: \"+self.brand)\n",
    "\n",
    "mycar= Car(\"TATA Tigor\",\"iCNG\")\n",
    "#print(mycar.brand)\n",
    "mycar.hello()"
   ]
  },
  {
   "cell_type": "code",
   "execution_count": 19,
   "id": "608aca5c",
   "metadata": {},
   "outputs": [
    {
     "name": "stdout",
     "output_type": "stream",
     "text": [
      "['tata', 'kia', 'honda', 'kyundai']\n",
      "['tata', 'kia', 'honda']\n",
      "['tata', 'kia', 'honda', 'audi']\n",
      "['tata', 'kia', 'audi']\n"
     ]
    }
   ],
   "source": [
    "#array using list\n",
    "\n",
    "arr=[\"tata\",\"kia\",\"honda\"]\n",
    "arr.append(\"kyundai\")  #ADDA an element to the end of the list\n",
    "print(arr)\n",
    "\n",
    "arr.pop()  #removes the last element from the array\n",
    "print(arr)\n",
    "arr.append(\"audi\")\n",
    "print(arr)\n",
    "arr.remove(\"honda\") #deletes an element from the array\n",
    "print(arr)"
   ]
  },
  {
   "cell_type": "code",
   "execution_count": null,
   "id": "15fa6630",
   "metadata": {},
   "outputs": [],
   "source": []
  }
 ],
 "metadata": {
  "kernelspec": {
   "display_name": "Python 3 (ipykernel)",
   "language": "python",
   "name": "python3"
  },
  "language_info": {
   "codemirror_mode": {
    "name": "ipython",
    "version": 3
   },
   "file_extension": ".py",
   "mimetype": "text/x-python",
   "name": "python",
   "nbconvert_exporter": "python",
   "pygments_lexer": "ipython3",
   "version": "3.11.5"
  }
 },
 "nbformat": 4,
 "nbformat_minor": 5
}
